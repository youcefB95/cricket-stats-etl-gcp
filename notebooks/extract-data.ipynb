{
 "cells": [
  {
   "cell_type": "code",
   "execution_count": 1,
   "metadata": {},
   "outputs": [],
   "source": [
    "import requests\n",
    "import csv\n",
    "import configparser"
   ]
  },
  {
   "cell_type": "code",
   "execution_count": 4,
   "metadata": {},
   "outputs": [],
   "source": [
    "# Charger le fichier de configuration\n",
    "config = configparser.ConfigParser()\n",
    "config.read('../config/rapid-api.conf')\n",
    "\n",
    "# Récupérer la valeur de 'myKey' (dans la section DEFAULT)\n",
    "X_RapidAPI_Key = config['RAPIDAPI']['X-RapidAPI-Key']"
   ]
  },
  {
   "cell_type": "code",
   "execution_count": 21,
   "metadata": {},
   "outputs": [
    {
     "data": {
      "text/html": [
       "<div>\n",
       "<style scoped>\n",
       "    .dataframe tbody tr th:only-of-type {\n",
       "        vertical-align: middle;\n",
       "    }\n",
       "\n",
       "    .dataframe tbody tr th {\n",
       "        vertical-align: top;\n",
       "    }\n",
       "\n",
       "    .dataframe thead th {\n",
       "        text-align: right;\n",
       "    }\n",
       "</style>\n",
       "<table border=\"1\" class=\"dataframe\">\n",
       "  <thead>\n",
       "    <tr style=\"text-align: right;\">\n",
       "      <th></th>\n",
       "      <th>id</th>\n",
       "      <th>rank</th>\n",
       "      <th>name</th>\n",
       "      <th>country</th>\n",
       "      <th>rating</th>\n",
       "      <th>points</th>\n",
       "      <th>lastUpdatedOn</th>\n",
       "      <th>trend</th>\n",
       "      <th>faceImageId</th>\n",
       "      <th>countryId</th>\n",
       "      <th>difference</th>\n",
       "    </tr>\n",
       "  </thead>\n",
       "  <tbody>\n",
       "    <tr>\n",
       "      <th>0</th>\n",
       "      <td>8359</td>\n",
       "      <td>1</td>\n",
       "      <td>Babar Azam</td>\n",
       "      <td>Pakistan</td>\n",
       "      <td>800</td>\n",
       "      <td>800</td>\n",
       "      <td>2024-12-13</td>\n",
       "      <td>Flat</td>\n",
       "      <td>352417</td>\n",
       "      <td>3</td>\n",
       "      <td>NaN</td>\n",
       "    </tr>\n",
       "    <tr>\n",
       "      <th>1</th>\n",
       "      <td>576</td>\n",
       "      <td>2</td>\n",
       "      <td>Rohit Sharma</td>\n",
       "      <td>India</td>\n",
       "      <td>765</td>\n",
       "      <td>765</td>\n",
       "      <td>2024-12-13</td>\n",
       "      <td>Flat</td>\n",
       "      <td>577755</td>\n",
       "      <td>2</td>\n",
       "      <td>NaN</td>\n",
       "    </tr>\n",
       "    <tr>\n",
       "      <th>2</th>\n",
       "      <td>11808</td>\n",
       "      <td>3</td>\n",
       "      <td>Shubman Gill</td>\n",
       "      <td>India</td>\n",
       "      <td>763</td>\n",
       "      <td>763</td>\n",
       "      <td>2024-12-13</td>\n",
       "      <td>Flat</td>\n",
       "      <td>577753</td>\n",
       "      <td>2</td>\n",
       "      <td>NaN</td>\n",
       "    </tr>\n",
       "    <tr>\n",
       "      <th>3</th>\n",
       "      <td>1413</td>\n",
       "      <td>4</td>\n",
       "      <td>Virat Kohli</td>\n",
       "      <td>India</td>\n",
       "      <td>746</td>\n",
       "      <td>746</td>\n",
       "      <td>2024-12-13</td>\n",
       "      <td>Flat</td>\n",
       "      <td>577572</td>\n",
       "      <td>2</td>\n",
       "      <td>NaN</td>\n",
       "    </tr>\n",
       "    <tr>\n",
       "      <th>4</th>\n",
       "      <td>11130</td>\n",
       "      <td>5</td>\n",
       "      <td>Harry Tector</td>\n",
       "      <td>Ireland</td>\n",
       "      <td>737</td>\n",
       "      <td>737</td>\n",
       "      <td>2024-12-13</td>\n",
       "      <td>Flat</td>\n",
       "      <td>244641</td>\n",
       "      <td>27</td>\n",
       "      <td>NaN</td>\n",
       "    </tr>\n",
       "  </tbody>\n",
       "</table>\n",
       "</div>"
      ],
      "text/plain": [
       "      id rank          name   country rating points lastUpdatedOn trend  \\\n",
       "0   8359    1    Babar Azam  Pakistan    800    800    2024-12-13  Flat   \n",
       "1    576    2  Rohit Sharma     India    765    765    2024-12-13  Flat   \n",
       "2  11808    3  Shubman Gill     India    763    763    2024-12-13  Flat   \n",
       "3   1413    4   Virat Kohli     India    746    746    2024-12-13  Flat   \n",
       "4  11130    5  Harry Tector   Ireland    737    737    2024-12-13  Flat   \n",
       "\n",
       "  faceImageId countryId  difference  \n",
       "0      352417         3         NaN  \n",
       "1      577755         2         NaN  \n",
       "2      577753         2         NaN  \n",
       "3      577572         2         NaN  \n",
       "4      244641        27         NaN  "
      ]
     },
     "execution_count": 21,
     "metadata": {},
     "output_type": "execute_result"
    }
   ],
   "source": [
    "import pandas as pd\n",
    "from io import StringIO\n",
    "\n",
    "\n",
    "import requests\n",
    "\n",
    "url = \"https://crickbuzz-official-apis.p.rapidapi.com/rankings/batsman/\"\n",
    "\n",
    "querystring = {\"formatType\":\"odi\",\"men\":\"1\"}\n",
    "\n",
    "headers = {\n",
    "\t\"x-rapidapi-key\": X_RapidAPI_Key,\n",
    "\t\"x-rapidapi-host\": \"crickbuzz-official-apis.p.rapidapi.com\"\n",
    "}\n",
    "\n",
    "response = requests.get(url, headers=headers, params=querystring)\n",
    "\n",
    "# Utiliser StringIO pour lire la réponse comme un fichier CSV\n",
    "#csv_data = StringIO(response.text)\n",
    "    \n",
    "    # Convertir en DataFrame Pandas\n",
    "df = pd.DataFrame(data = response.json()[\"rank\"])\n",
    "    \n",
    "df.head()"
   ]
  },
  {
   "cell_type": "code",
   "execution_count": 30,
   "metadata": {},
   "outputs": [
    {
     "data": {
      "text/plain": [
       "'4efebc1457msh533840ee6a8b9e7p1ed720jsne4646468e9fc'"
      ]
     },
     "execution_count": 30,
     "metadata": {},
     "output_type": "execute_result"
    }
   ],
   "source": [
    "import requests\n",
    "import csv\n",
    "import configparser\n",
    "import os\n",
    "from pathlib import Path\n",
    "\n",
    "\n",
    "\n",
    "CONFIG_FILE= Path(os.getcwd()).resolve().parent / 'config' / 'rapid-api.conf'\n",
    "DATA_PATH = Path(os.getcwd()).resolve().parent / 'data' \n",
    "\n",
    "# Charger le fichier de configuration\n",
    "config = configparser.ConfigParser()\n",
    "config.read(CONFIG_FILE)\n",
    "\n",
    "# Récupérer la valeur de 'X-RapidAPI-Key' (dans la section RAPIDAPI)\n",
    "X_RapidAPI_Key = config['RAPIDAPI']['X-RapidAPI-Key']\n",
    "X_RapidAPI_Key"
   ]
  },
  {
   "cell_type": "code",
   "execution_count": 29,
   "metadata": {},
   "outputs": [
    {
     "data": {
      "text/plain": [
       "PosixPath('/Users/belhadri-youcef/Documents/Personnel/Formation/data-projects/crickets-etl-data-project')"
      ]
     },
     "execution_count": 29,
     "metadata": {},
     "output_type": "execute_result"
    }
   ],
   "source": [
    "Path(os.getcwd()).resolve().parent"
   ]
  },
  {
   "cell_type": "code",
   "execution_count": 4,
   "metadata": {},
   "outputs": [],
   "source": [
    "import pandas as pd"
   ]
  },
  {
   "cell_type": "code",
   "execution_count": 5,
   "metadata": {},
   "outputs": [],
   "source": [
    "df = pd.read_csv(\"../data/batsmen_rankings.csv\",sep=\",\")"
   ]
  },
  {
   "cell_type": "code",
   "execution_count": 23,
   "metadata": {},
   "outputs": [
    {
     "name": "stdout",
     "output_type": "stream",
     "text": [
      "<class 'pandas.core.frame.DataFrame'>\n",
      "RangeIndex: 15 entries, 0 to 14\n",
      "Data columns (total 11 columns):\n",
      " #   Column         Non-Null Count  Dtype  \n",
      "---  ------         --------------  -----  \n",
      " 0   id             15 non-null     object \n",
      " 1   rank           15 non-null     object \n",
      " 2   name           15 non-null     object \n",
      " 3   country        15 non-null     object \n",
      " 4   rating         15 non-null     object \n",
      " 5   points         15 non-null     object \n",
      " 6   lastUpdatedOn  15 non-null     object \n",
      " 7   trend          15 non-null     object \n",
      " 8   faceImageId    15 non-null     object \n",
      " 9   countryId      15 non-null     object \n",
      " 10  difference     9 non-null      float64\n",
      "dtypes: float64(1), object(10)\n",
      "memory usage: 1.4+ KB\n"
     ]
    }
   ],
   "source": [
    "df.info()"
   ]
  },
  {
   "cell_type": "code",
   "execution_count": 7,
   "metadata": {},
   "outputs": [
    {
     "data": {
      "text/plain": [
       "(15, 11)"
      ]
     },
     "execution_count": 7,
     "metadata": {},
     "output_type": "execute_result"
    }
   ],
   "source": [
    "df.shape"
   ]
  },
  {
   "cell_type": "code",
   "execution_count": 20,
   "metadata": {},
   "outputs": [
    {
     "data": {
      "text/html": [
       "<div>\n",
       "<style scoped>\n",
       "    .dataframe tbody tr th:only-of-type {\n",
       "        vertical-align: middle;\n",
       "    }\n",
       "\n",
       "    .dataframe tbody tr th {\n",
       "        vertical-align: top;\n",
       "    }\n",
       "\n",
       "    .dataframe thead th {\n",
       "        text-align: right;\n",
       "    }\n",
       "</style>\n",
       "<table border=\"1\" class=\"dataframe\">\n",
       "  <thead>\n",
       "    <tr style=\"text-align: right;\">\n",
       "      <th></th>\n",
       "      <th>id</th>\n",
       "      <th>rank</th>\n",
       "      <th>name</th>\n",
       "      <th>country</th>\n",
       "      <th>rating</th>\n",
       "      <th>difference</th>\n",
       "      <th>points</th>\n",
       "      <th>lastUpdatedOn</th>\n",
       "      <th>trend</th>\n",
       "      <th>faceImageId</th>\n",
       "      <th>countryId</th>\n",
       "    </tr>\n",
       "  </thead>\n",
       "  <tbody>\n",
       "    <tr>\n",
       "      <th>2</th>\n",
       "      <td>9419</td>\n",
       "      <td>3</td>\n",
       "      <td>Nat Sciver-Brunt</td>\n",
       "      <td>England</td>\n",
       "      <td>732</td>\n",
       "      <td>-2.0</td>\n",
       "      <td>732</td>\n",
       "      <td>2024-12-13</td>\n",
       "      <td>Down</td>\n",
       "      <td>255048</td>\n",
       "      <td>9</td>\n",
       "    </tr>\n",
       "    <tr>\n",
       "      <th>12</th>\n",
       "      <td>9141</td>\n",
       "      <td>13</td>\n",
       "      <td>Tammy Beaumont</td>\n",
       "      <td>England</td>\n",
       "      <td>615</td>\n",
       "      <td>-1.0</td>\n",
       "      <td>615</td>\n",
       "      <td>2024-12-13</td>\n",
       "      <td>Down</td>\n",
       "      <td>227410</td>\n",
       "      <td>9</td>\n",
       "    </tr>\n",
       "    <tr>\n",
       "      <th>13</th>\n",
       "      <td>9145</td>\n",
       "      <td>14</td>\n",
       "      <td>Amy Jones</td>\n",
       "      <td>England</td>\n",
       "      <td>596</td>\n",
       "      <td>NaN</td>\n",
       "      <td>596</td>\n",
       "      <td>2024-12-13</td>\n",
       "      <td>Flat</td>\n",
       "      <td>255029</td>\n",
       "      <td>9</td>\n",
       "    </tr>\n",
       "  </tbody>\n",
       "</table>\n",
       "</div>"
      ],
      "text/plain": [
       "      id rank              name  country rating  difference points  \\\n",
       "2   9419    3  Nat Sciver-Brunt  England    732        -2.0    732   \n",
       "12  9141   13    Tammy Beaumont  England    615        -1.0    615   \n",
       "13  9145   14         Amy Jones  England    596         NaN    596   \n",
       "\n",
       "   lastUpdatedOn trend faceImageId countryId  \n",
       "2     2024-12-13  Down      255048         9  \n",
       "12    2024-12-13  Down      227410         9  \n",
       "13    2024-12-13  Flat      255029         9  "
      ]
     },
     "execution_count": 20,
     "metadata": {},
     "output_type": "execute_result"
    }
   ],
   "source": [
    "df.query(\"country == 'England'\")\n"
   ]
  },
  {
   "cell_type": "markdown",
   "metadata": {},
   "source": [
    "## Data Modelisation"
   ]
  },
  {
   "cell_type": "code",
   "execution_count": 31,
   "metadata": {},
   "outputs": [],
   "source": [
    "# 2. Création des tables de dimensions\n",
    "## Table `player_dim`\n",
    "player_dim = df[[\"id\", \"name\", \"faceImageId\"]].copy()\n",
    "player_dim[\"first_name\"] = player_dim[\"name\"].apply(lambda x: x.split(\" \")[0])\n",
    "player_dim[\"last_name\"] = player_dim[\"name\"].apply(lambda x: \" \".join(x.split(\" \")[1:]))\n",
    "player_dim.rename(columns={\"id\": \"player_id\", \"faceImageId\": \"face_image_id\"}, inplace=True)\n",
    "player_dim = player_dim[[\"player_id\", \"first_name\", \"last_name\", \"face_image_id\"]]"
   ]
  },
  {
   "cell_type": "code",
   "execution_count": 13,
   "metadata": {},
   "outputs": [],
   "source": [
    "data = df.copy()"
   ]
  },
  {
   "cell_type": "code",
   "execution_count": 15,
   "metadata": {},
   "outputs": [],
   "source": [
    "player_dim = data[['id', 'name']].copy()  \n",
    "player_dim['first_name'] = player_dim['name'].apply(lambda x: x.split(\" \")[0])  \n",
    "player_dim['last_name'] = player_dim['name'].apply(lambda x: \" \".join(x.split(\" \")[1:]))  \n",
    "player_dim.rename(columns={'id': 'player_id'}, inplace=True)  \n",
    "player_dim = player_dim[['player_id', 'first_name', 'last_name']]\n",
    "player_dim.drop_duplicates(inplace=True)# Éviter les doublons  \n"
   ]
  },
  {
   "cell_type": "code",
   "execution_count": 16,
   "metadata": {},
   "outputs": [
    {
     "data": {
      "text/plain": [
       "(15, 3)"
      ]
     },
     "execution_count": 16,
     "metadata": {},
     "output_type": "execute_result"
    }
   ],
   "source": [
    "player_dim.shape"
   ]
  },
  {
   "cell_type": "code",
   "execution_count": 32,
   "metadata": {},
   "outputs": [],
   "source": [
    "## Table `country_dim`\n",
    "country_dim = df[[\"countryId\", \"country\"]].drop_duplicates().copy()\n",
    "country_dim.rename(columns={\"countryId\": \"country_id\"}, inplace=True)"
   ]
  },
  {
   "cell_type": "code",
   "execution_count": 17,
   "metadata": {},
   "outputs": [],
   "source": [
    "# Conversion de la colonne 'lastUpdatedOn' en datetime dans le DataFrame source\n",
    "df['lastUpdatedOn'] = pd.to_datetime(df['lastUpdatedOn'], errors='coerce')\n",
    "\n",
    "# Création de la table date_dim\n",
    "date_dim = pd.DataFrame({\n",
    "    'date': df['lastUpdatedOn'].drop_duplicates()\n",
    "})\n",
    "date_dim['date'] = pd.to_datetime(date_dim['date'], errors='coerce')  # Assure la cohérence du type datetime\n",
    "date_dim['date_id'] = range(1, len(date_dim) + 1)  # Génération d'une clé primaire\n",
    "date_dim['hour'] = date_dim['date'].dt.hour\n",
    "date_dim['day_of_week'] = date_dim['date'].dt.day_name()\n",
    "date_dim['month'] = date_dim['date'].dt.month\n",
    "date_dim['year'] = date_dim['date'].dt.year\n"
   ]
  },
  {
   "cell_type": "code",
   "execution_count": null,
   "metadata": {},
   "outputs": [],
   "source": [
    "data['lastUpdatedOn'] = pd.to_datetime(data['lastUpdatedOn'], errors='coerce')  \n",
    "date_dim = pd.DataFrame({  \n",
    "            'date_id': range(1, len(data['lastUpdatedOn'].drop_duplicates()) + 1),  \n",
    "            'date': data['lastUpdatedOn'].drop_duplicates().reset_index(drop=True)  \n",
    "        })  \n",
    "date_dim['day_of_week'] = date_dim['date'].dt.day_name()  \n",
    "date_dim['month'] = date_dim['date'].dt.month  \n",
    "date_dim['year'] = date_dim['date'].dt.year  "
   ]
  },
  {
   "cell_type": "code",
   "execution_count": 18,
   "metadata": {},
   "outputs": [
    {
     "data": {
      "text/html": [
       "<div>\n",
       "<style scoped>\n",
       "    .dataframe tbody tr th:only-of-type {\n",
       "        vertical-align: middle;\n",
       "    }\n",
       "\n",
       "    .dataframe tbody tr th {\n",
       "        vertical-align: top;\n",
       "    }\n",
       "\n",
       "    .dataframe thead th {\n",
       "        text-align: right;\n",
       "    }\n",
       "</style>\n",
       "<table border=\"1\" class=\"dataframe\">\n",
       "  <thead>\n",
       "    <tr style=\"text-align: right;\">\n",
       "      <th></th>\n",
       "      <th>date</th>\n",
       "      <th>date_id</th>\n",
       "      <th>hour</th>\n",
       "      <th>day_of_week</th>\n",
       "      <th>month</th>\n",
       "      <th>year</th>\n",
       "    </tr>\n",
       "  </thead>\n",
       "  <tbody>\n",
       "    <tr>\n",
       "      <th>0</th>\n",
       "      <td>2024-12-27</td>\n",
       "      <td>1</td>\n",
       "      <td>0</td>\n",
       "      <td>Friday</td>\n",
       "      <td>12</td>\n",
       "      <td>2024</td>\n",
       "    </tr>\n",
       "  </tbody>\n",
       "</table>\n",
       "</div>"
      ],
      "text/plain": [
       "        date  date_id  hour day_of_week  month  year\n",
       "0 2024-12-27        1     0      Friday     12  2024"
      ]
     },
     "execution_count": 18,
     "metadata": {},
     "output_type": "execute_result"
    }
   ],
   "source": [
    "date_dim.head()"
   ]
  },
  {
   "cell_type": "code",
   "execution_count": 37,
   "metadata": {},
   "outputs": [],
   "source": [
    "# 3. Création de la table de faits (`rankings`)\n",
    "rankings = df[[\"id\", \"countryId\", \"lastUpdatedOn\", \"rank\", \"rating\", \"points\", \"difference\", \"trend\"]].copy()\n",
    "rankings.rename(columns={\"id\": \"player_id\", \"countryId\": \"country_id\"}, inplace=True)\n",
    "rankings = rankings.merge(date_dim, left_on=\"lastUpdatedOn\", right_on=\"date\", how=\"left\")\n",
    "rankings = rankings[[\"player_id\", \"country_id\", \"date_id\", \"rank\", \"rating\", \"points\", \"difference\", \"trend\"]]\n"
   ]
  },
  {
   "cell_type": "code",
   "execution_count": 42,
   "metadata": {},
   "outputs": [
    {
     "data": {
      "text/html": [
       "<div>\n",
       "<style scoped>\n",
       "    .dataframe tbody tr th:only-of-type {\n",
       "        vertical-align: middle;\n",
       "    }\n",
       "\n",
       "    .dataframe tbody tr th {\n",
       "        vertical-align: top;\n",
       "    }\n",
       "\n",
       "    .dataframe thead th {\n",
       "        text-align: right;\n",
       "    }\n",
       "</style>\n",
       "<table border=\"1\" class=\"dataframe\">\n",
       "  <thead>\n",
       "    <tr style=\"text-align: right;\">\n",
       "      <th></th>\n",
       "      <th>player_id</th>\n",
       "      <th>country_id</th>\n",
       "      <th>date_id</th>\n",
       "      <th>rank</th>\n",
       "      <th>rating</th>\n",
       "      <th>points</th>\n",
       "      <th>difference</th>\n",
       "      <th>trend</th>\n",
       "    </tr>\n",
       "  </thead>\n",
       "  <tbody>\n",
       "    <tr>\n",
       "      <th>0</th>\n",
       "      <td>8359</td>\n",
       "      <td>3</td>\n",
       "      <td>1</td>\n",
       "      <td>1</td>\n",
       "      <td>800</td>\n",
       "      <td>800</td>\n",
       "      <td>NaN</td>\n",
       "      <td>Flat</td>\n",
       "    </tr>\n",
       "    <tr>\n",
       "      <th>1</th>\n",
       "      <td>576</td>\n",
       "      <td>2</td>\n",
       "      <td>1</td>\n",
       "      <td>2</td>\n",
       "      <td>765</td>\n",
       "      <td>765</td>\n",
       "      <td>NaN</td>\n",
       "      <td>Flat</td>\n",
       "    </tr>\n",
       "    <tr>\n",
       "      <th>2</th>\n",
       "      <td>11808</td>\n",
       "      <td>2</td>\n",
       "      <td>1</td>\n",
       "      <td>3</td>\n",
       "      <td>763</td>\n",
       "      <td>763</td>\n",
       "      <td>NaN</td>\n",
       "      <td>Flat</td>\n",
       "    </tr>\n",
       "    <tr>\n",
       "      <th>3</th>\n",
       "      <td>1413</td>\n",
       "      <td>2</td>\n",
       "      <td>1</td>\n",
       "      <td>4</td>\n",
       "      <td>746</td>\n",
       "      <td>746</td>\n",
       "      <td>NaN</td>\n",
       "      <td>Flat</td>\n",
       "    </tr>\n",
       "    <tr>\n",
       "      <th>4</th>\n",
       "      <td>11130</td>\n",
       "      <td>27</td>\n",
       "      <td>1</td>\n",
       "      <td>5</td>\n",
       "      <td>737</td>\n",
       "      <td>737</td>\n",
       "      <td>NaN</td>\n",
       "      <td>Flat</td>\n",
       "    </tr>\n",
       "  </tbody>\n",
       "</table>\n",
       "</div>"
      ],
      "text/plain": [
       "  player_id country_id  date_id rank rating points  difference trend\n",
       "0      8359          3        1    1    800    800         NaN  Flat\n",
       "1       576          2        1    2    765    765         NaN  Flat\n",
       "2     11808          2        1    3    763    763         NaN  Flat\n",
       "3      1413          2        1    4    746    746         NaN  Flat\n",
       "4     11130         27        1    5    737    737         NaN  Flat"
      ]
     },
     "execution_count": 42,
     "metadata": {},
     "output_type": "execute_result"
    }
   ],
   "source": [
    "rankings.head()"
   ]
  },
  {
   "cell_type": "code",
   "execution_count": 38,
   "metadata": {},
   "outputs": [
    {
     "name": "stdout",
     "output_type": "stream",
     "text": [
      "Player Dimension:\n",
      "    player_id   first_name       last_name face_image_id\n",
      "0       8359        Babar            Azam        352417\n",
      "1        576        Rohit          Sharma        577755\n",
      "2      11808      Shubman            Gill        577753\n",
      "3       1413        Virat           Kohli        577572\n",
      "4      11130        Harry          Tector        244641\n",
      "5      10713        Daryl        Mitchell        351601\n",
      "6      13213  Rahmanullah          Gurbaz        352440\n",
      "7      10384         Shai            Hope        170814\n",
      "8      13682       Pathum        Nissanka        351889\n",
      "9      10934      Charith        Asalanka        351873\n",
      "10      9428      Shreyas            Iyer        352480\n",
      "11      8497       Travis            Head        332908\n",
      "12     10209     Heinrich         Klaasen        577487\n",
      "13      9554       Rassie  van der Dussen        577488\n",
      "14      8733           KL           Rahul        577534\n",
      "\n",
      "Country Dimension:\n",
      "    country_id       country\n",
      "0           3      Pakistan\n",
      "1           2         India\n",
      "4          27       Ireland\n",
      "5          13   New Zealand\n",
      "6          96   Afghanistan\n",
      "7          10   West Indies\n",
      "8           5     Sri Lanka\n",
      "11          4     Australia\n",
      "12         11  South Africa\n",
      "\n",
      "Date Dimension:\n",
      "         date  date_id  hour day_of_week  month  year\n",
      "0 2024-12-13        1     0      Friday     12  2024\n",
      "\n",
      "Rankings Fact Table:\n",
      "    player_id country_id  date_id rank rating points  difference trend\n",
      "0       8359          3        1    1    800    800         NaN  Flat\n",
      "1        576          2        1    2    765    765         NaN  Flat\n",
      "2      11808          2        1    3    763    763         NaN  Flat\n",
      "3       1413          2        1    4    746    746         NaN  Flat\n",
      "4      11130         27        1    5    737    737         NaN  Flat\n",
      "5      10713         13        1    6    706    706         NaN  Flat\n",
      "6      13213         96        1    7    693    693         1.0    Up\n",
      "7      10384         10        1    8    682    682         2.0    Up\n",
      "8      13682          5        1    9    671    671        -2.0  Down\n",
      "9      10934          5        1   10    660    660        -1.0  Down\n",
      "10      9428          2        1   11    658    658         1.0    Up\n",
      "11      8497          4        1   12    657    657         1.0    Up\n",
      "12     10209         11        1   13    656    656         1.0    Up\n",
      "13      9554         11        1   14    649    649         2.0    Up\n",
      "14      8733          2        1   15    644    644         2.0    Up\n"
     ]
    }
   ],
   "source": [
    "# 4. Sauvegarde ou visualisation des résultats\n",
    "print(\"Player Dimension:\\n\", player_dim)\n",
    "print(\"\\nCountry Dimension:\\n\", country_dim)\n",
    "print(\"\\nDate Dimension:\\n\", date_dim)\n",
    "print(\"\\nRankings Fact Table:\\n\", rankings)\n"
   ]
  },
  {
   "cell_type": "code",
   "execution_count": 19,
   "metadata": {},
   "outputs": [],
   "source": [
    "data['lastUpdatedOn'] = pd.to_datetime(data['lastUpdatedOn'], errors='coerce')  \n",
    "\n",
    "date_dim = pd.DataFrame({  \n",
    "            'date': data['lastUpdatedOn'].drop_duplicates()  \n",
    "        })  \n",
    "date_dim['date'] = pd.to_datetime(date_dim['date'], errors='coerce')  \n",
    "date_dim['date_id'] = range(1, len(date_dim) + 1)  \n",
    "date_dim['day_of_week'] = date_dim['date'].dt.day_name()  \n",
    "date_dim['month'] = date_dim['date'].dt.month  \n",
    "date_dim['year'] = date_dim['date'].dt.year  \n",
    "date_dim = date_dim[[\"date_id\", \"date\", \"day_of_week\", \"month\", \"year\"]]"
   ]
  },
  {
   "cell_type": "code",
   "execution_count": 21,
   "metadata": {},
   "outputs": [
    {
     "data": {
      "text/html": [
       "<div>\n",
       "<style scoped>\n",
       "    .dataframe tbody tr th:only-of-type {\n",
       "        vertical-align: middle;\n",
       "    }\n",
       "\n",
       "    .dataframe tbody tr th {\n",
       "        vertical-align: top;\n",
       "    }\n",
       "\n",
       "    .dataframe thead th {\n",
       "        text-align: right;\n",
       "    }\n",
       "</style>\n",
       "<table border=\"1\" class=\"dataframe\">\n",
       "  <thead>\n",
       "    <tr style=\"text-align: right;\">\n",
       "      <th></th>\n",
       "      <th>date_id</th>\n",
       "      <th>date</th>\n",
       "      <th>day_of_week</th>\n",
       "      <th>month</th>\n",
       "      <th>year</th>\n",
       "    </tr>\n",
       "  </thead>\n",
       "  <tbody>\n",
       "    <tr>\n",
       "      <th>0</th>\n",
       "      <td>1</td>\n",
       "      <td>2024-12-27</td>\n",
       "      <td>Friday</td>\n",
       "      <td>12</td>\n",
       "      <td>2024</td>\n",
       "    </tr>\n",
       "  </tbody>\n",
       "</table>\n",
       "</div>"
      ],
      "text/plain": [
       "   date_id       date day_of_week  month  year\n",
       "0        1 2024-12-27      Friday     12  2024"
      ]
     },
     "execution_count": 21,
     "metadata": {},
     "output_type": "execute_result"
    }
   ],
   "source": [
    "date_dim.head()"
   ]
  },
  {
   "cell_type": "code",
   "execution_count": 23,
   "metadata": {},
   "outputs": [],
   "source": [
    "new_dates = date_dim[~date_dim['date'].isin([])].drop_duplicates(subset=['date'])  \n"
   ]
  },
  {
   "cell_type": "code",
   "execution_count": 29,
   "metadata": {},
   "outputs": [
    {
     "data": {
      "text/html": [
       "<div>\n",
       "<style scoped>\n",
       "    .dataframe tbody tr th:only-of-type {\n",
       "        vertical-align: middle;\n",
       "    }\n",
       "\n",
       "    .dataframe tbody tr th {\n",
       "        vertical-align: top;\n",
       "    }\n",
       "\n",
       "    .dataframe thead th {\n",
       "        text-align: right;\n",
       "    }\n",
       "</style>\n",
       "<table border=\"1\" class=\"dataframe\">\n",
       "  <thead>\n",
       "    <tr style=\"text-align: right;\">\n",
       "      <th></th>\n",
       "      <th>date_id</th>\n",
       "      <th>date</th>\n",
       "      <th>day_of_week</th>\n",
       "      <th>month</th>\n",
       "      <th>year</th>\n",
       "    </tr>\n",
       "  </thead>\n",
       "  <tbody>\n",
       "    <tr>\n",
       "      <th>0</th>\n",
       "      <td>1</td>\n",
       "      <td>2024-12-27</td>\n",
       "      <td>Friday</td>\n",
       "      <td>12</td>\n",
       "      <td>2024</td>\n",
       "    </tr>\n",
       "  </tbody>\n",
       "</table>\n",
       "</div>"
      ],
      "text/plain": [
       "   date_id        date day_of_week  month  year\n",
       "0        1  2024-12-27      Friday     12  2024"
      ]
     },
     "execution_count": 29,
     "metadata": {},
     "output_type": "execute_result"
    }
   ],
   "source": [
    "date_dim = pd.DataFrame({  \n",
    "            'date': df['lastUpdatedOn'].drop_duplicates()  \n",
    "        })  \n",
    "        # Conversion explicite des dates vers un format compatible avec BigQuery  \n",
    "        #date_dim['date'] = date_dim['date'].dt.to_pydatetime()  \n",
    "        # Formatage pour BigQuery (au format chaîne 'YYYY-MM-DD')  \n",
    "date_dim['date_id'] = range(1, len(date_dim) + 1)  \n",
    "date_dim['day_of_week'] = date_dim['date'].dt.day_name()  \n",
    "date_dim['month'] = date_dim['date'].dt.month  \n",
    "date_dim['year'] = date_dim['date'].dt.year  \n",
    "date_dim['date'] = date_dim['date'].dt.strftime('%Y-%m-%d')  # Formatage pour BigQuery\n",
    "date_dim = date_dim[[\"date_id\", \"date\", \"day_of_week\", \"month\", \"year\"]]\n",
    "date_dim\n"
   ]
  },
  {
   "cell_type": "code",
   "execution_count": 25,
   "metadata": {},
   "outputs": [
    {
     "name": "stdout",
     "output_type": "stream",
     "text": [
      "{'type': 'date', 'data': {'date_id': 1, 'date': Timestamp('2024-12-27 00:00:00'), 'day_of_week': 'Friday', 'month': 12, 'year': 2024}}\n"
     ]
    }
   ],
   "source": [
    "for r in new_dates.to_dict(orient='records'):  \n",
    "            print( {'type': 'date', 'data': r}  )"
   ]
  }
 ],
 "metadata": {
  "kernelspec": {
   "display_name": "base",
   "language": "python",
   "name": "python3"
  },
  "language_info": {
   "codemirror_mode": {
    "name": "ipython",
    "version": 3
   },
   "file_extension": ".py",
   "mimetype": "text/x-python",
   "name": "python",
   "nbconvert_exporter": "python",
   "pygments_lexer": "ipython3",
   "version": "3.8.5"
  },
  "orig_nbformat": 4,
  "vscode": {
   "interpreter": {
    "hash": "9b1d79010ad881e31f950fc638cc676ea2523969a6c58493a0d1829e38c0bba6"
   }
  }
 },
 "nbformat": 4,
 "nbformat_minor": 2
}
